{
 "cells": [
  {
   "cell_type": "code",
   "execution_count": 9,
   "metadata": {},
   "outputs": [],
   "source": [
    "import json\n",
    "import numpy as np\n",
    "import torch\n",
    "from torch_geometric.data import Data\n",
    "from job_shop_lib.dispatching.feature_observers import (\n",
    "    feature_observer_factory,\n",
    "    FeatureObserverType,\n",
    ")\n",
    "from job_shop_lib.graphs import build_agent_task_graph\n",
    "from job_shop_lib.reinforcement_learning import (\n",
    "    SingleJobShopGraphEnv,\n",
    "    ObservationDict,\n",
    "    ObservationSpaceKey,\n",
    ")\n",
    "from job_shop_lib import Schedule, Operation\n",
    "from gnn_scheduler.utils import get_data_path"
   ]
  },
  {
   "cell_type": "code",
   "execution_count": 6,
   "metadata": {},
   "outputs": [],
   "source": [
    "DATA_PATH = get_data_path()\n",
    "schedules_json = json.load(open(DATA_PATH / \"small_random_instances_0.json\"))"
   ]
  },
  {
   "cell_type": "code",
   "execution_count": 7,
   "metadata": {},
   "outputs": [
    {
     "data": {
      "text/plain": [
       "100000"
      ]
     },
     "execution_count": 7,
     "metadata": {},
     "output_type": "execute_result"
    }
   ],
   "source": [
    "len(schedules_json)"
   ]
  },
  {
   "cell_type": "code",
   "execution_count": 10,
   "metadata": {},
   "outputs": [],
   "source": [
    "features_observers_types = [\n",
    "    FeatureObserverType.DURATION,\n",
    "    FeatureObserverType.EARLIEST_START_TIME,\n",
    "    FeatureObserverType.IS_COMPLETED,\n",
    "    FeatureObserverType.IS_SCHEDULED,\n",
    "    FeatureObserverType.POSITION_IN_JOB,\n",
    "    FeatureObserverType.REMAINING_OPERATIONS,\n",
    "]"
   ]
  },
  {
   "cell_type": "code",
   "execution_count": 8,
   "metadata": {},
   "outputs": [
    {
     "name": "stdout",
     "output_type": "stream",
     "text": [
      "[[S-Op(operation=O(m=0, d=40, j=2, p=0), start_time=0, machine_id=0), S-Op(operation=O(m=0, d=91, j=4, p=1), start_time=40, machine_id=0), S-Op(operation=O(m=0, d=97, j=1, p=2), start_time=131, machine_id=0), S-Op(operation=O(m=0, d=91, j=5, p=0), start_time=228, machine_id=0), S-Op(operation=O(m=0, d=75, j=0, p=4), start_time=319, machine_id=0), S-Op(operation=O(m=0, d=8, j=3, p=4), start_time=472, machine_id=0)], [S-Op(operation=O(m=1, d=65, j=1, p=0), start_time=0, machine_id=1), S-Op(operation=O(m=1, d=94, j=2, p=1), start_time=65, machine_id=1), S-Op(operation=O(m=1, d=52, j=0, p=2), start_time=159, machine_id=1), S-Op(operation=O(m=1, d=43, j=4, p=3), start_time=211, machine_id=1), S-Op(operation=O(m=1, d=82, j=3, p=1), start_time=254, machine_id=1), S-Op(operation=O(m=1, d=31, j=5, p=2), start_time=344, machine_id=1)], [S-Op(operation=O(m=2, d=6, j=0, p=0), start_time=0, machine_id=2), S-Op(operation=O(m=2, d=37, j=1, p=1), start_time=65, machine_id=2), S-Op(operation=O(m=2, d=79, j=4, p=2), start_time=131, machine_id=2), S-Op(operation=O(m=2, d=61, j=2, p=3), start_time=247, machine_id=2), S-Op(operation=O(m=2, d=25, j=5, p=1), start_time=319, machine_id=2), S-Op(operation=O(m=2, d=71, j=3, p=2), start_time=344, machine_id=2)], [S-Op(operation=O(m=3, d=12, j=4, p=0), start_time=0, machine_id=3), S-Op(operation=O(m=3, d=88, j=2, p=2), start_time=159, machine_id=3), S-Op(operation=O(m=3, d=62, j=0, p=3), start_time=247, machine_id=3), S-Op(operation=O(m=3, d=69, j=1, p=4), start_time=309, machine_id=3), S-Op(operation=O(m=3, d=57, j=3, p=3), start_time=415, machine_id=3), S-Op(operation=O(m=3, d=12, j=5, p=4), start_time=472, machine_id=3)], [S-Op(operation=O(m=4, d=41, j=3, p=0), start_time=0, machine_id=4), S-Op(operation=O(m=4, d=66, j=0, p=1), start_time=41, machine_id=4), S-Op(operation=O(m=4, d=80, j=1, p=3), start_time=228, machine_id=4), S-Op(operation=O(m=4, d=94, j=4, p=4), start_time=308, machine_id=4), S-Op(operation=O(m=4, d=70, j=5, p=3), start_time=402, machine_id=4), S-Op(operation=O(m=4, d=46, j=2, p=4), start_time=472, machine_id=4)]]\n"
     ]
    }
   ],
   "source": [
    "for schedule_dict in schedules_json:\n",
    "    schedule = Schedule.from_dict(**schedule_dict)\n",
    "    graph = build_agent_task_graph(schedule.instance)\n",
    "    env = SingleJobShopGraphEnv(\n",
    "        schedule, feature_observer_configs=features_observers_types\n",
    "    )\n",
    "\n",
    "    break"
   ]
  },
  {
   "cell_type": "code",
   "execution_count": null,
   "metadata": {},
   "outputs": [],
   "source": [
    "def create_action_probabilities(\n",
    "    env: SingleJobShopGraphEnv,\n",
    "    schedule: Schedule,\n",
    "    observation: ObservationDict,\n",
    ") -> torch.Tensor:\n",
    "    \"\"\"\n",
    "    Creates a probability distribution over actions based on the optimal schedule.\n",
    "\n",
    "    Args:\n",
    "        env: The job shop environment\n",
    "        schedule: The solved schedule containing optimal actions\n",
    "        observation: Current observation from the environment\n",
    "\n",
    "    Returns:\n",
    "        torch.Tensor: Probability distribution over jobs (one-hot if single optimal action)\n",
    "    \"\"\"\n",
    "    # Get currently available operations\n",
    "    ready_jobs = []\n",
    "    for job_id, is_ready in enumerate(\n",
    "        observation[ObservationSpaceKey.JOBS]\n",
    "    ):\n",
    "        if is_ready[0] == 1.0:\n",
    "            ready_jobs.append(job_id)\n",
    "\n",
    "    if not ready_jobs:\n",
    "        # No legal actions - shouldn't happen but handle gracefully\n",
    "        print(\"No legal actions\")\n",
    "        probs = torch.zeros(env.instance.num_jobs)\n",
    "        return probs\n",
    "\n",
    "    # Find which of the ready operations appear next in the optimal schedule\n",
    "    optimal_jobs = []\n",
    "    current_time = env.dispatcher.current_time()\n",
    "\n",
    "    # Check each machine's schedule\n",
    "    for machine_schedule in schedule.schedule:\n",
    "        # Look for the next operation after current_time\n",
    "        for scheduled_op in machine_schedule:\n",
    "            if scheduled_op.start_time >= current_time:\n",
    "                # If this operation is from a job that's currently ready\n",
    "                if scheduled_op.job_id in ready_jobs:\n",
    "                    optimal_jobs.append(scheduled_op.job_id)\n",
    "                break\n",
    "\n",
    "    if not optimal_jobs:\n",
    "        # If no optimal jobs found (shouldn't happen with valid schedule)\n",
    "        # Distribute probability equally among ready jobs\n",
    "        probs = torch.zeros(env.instance.num_jobs)\n",
    "        prob_value = 1.0 / len(ready_jobs)\n",
    "        for job_id in ready_jobs:\n",
    "            probs[job_id] = prob_value\n",
    "        return probs\n",
    "\n",
    "    # Create probability distribution\n",
    "    probs = torch.zeros(env.instance.num_jobs)\n",
    "    prob_value = 1.0 / len(optimal_jobs)\n",
    "    for job_id in optimal_jobs:\n",
    "        probs[job_id] = prob_value\n",
    "\n",
    "    return probs"
   ]
  }
 ],
 "metadata": {
  "kernelspec": {
   "display_name": "gnn-scheduler-4zJUvtwk-py3.12",
   "language": "python",
   "name": "python3"
  },
  "language_info": {
   "codemirror_mode": {
    "name": "ipython",
    "version": 3
   },
   "file_extension": ".py",
   "mimetype": "text/x-python",
   "name": "python",
   "nbconvert_exporter": "python",
   "pygments_lexer": "ipython3",
   "version": "3.12.3"
  }
 },
 "nbformat": 4,
 "nbformat_minor": 2
}
