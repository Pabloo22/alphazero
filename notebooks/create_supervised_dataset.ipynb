{
 "cells": [
  {
   "cell_type": "code",
   "execution_count": 1,
   "metadata": {},
   "outputs": [],
   "source": [
    "%load_ext autoreload\n",
    "%autoreload 2"
   ]
  },
  {
   "cell_type": "code",
   "execution_count": 2,
   "metadata": {},
   "outputs": [
    {
     "name": "stderr",
     "output_type": "stream",
     "text": [
      "/home/pablo/VSCodeProjects/gnn_scheduler/.venv/lib/python3.12/site-packages/torch/__config__.py:10: UserWarning: CUDA initialization: CUDA unknown error - this may be due to an incorrectly set up environment, e.g. changing env variable CUDA_VISIBLE_DEVICES after program start. Setting the available devices to be zero. (Triggered internally at /pytorch/c10/cuda/CUDAFunctions.cpp:109.)\n",
      "  return torch._C._show_config()\n"
     ]
    }
   ],
   "source": [
    "import json\n",
    "import random\n",
    "import numpy as np\n",
    "import torch\n",
    "import tqdm\n",
    "from job_shop_lib.dispatching.feature_observers import (\n",
    "    FeatureObserverType,\n",
    ")\n",
    "from job_shop_lib.graphs import build_resource_task_graph\n",
    "from job_shop_lib.reinforcement_learning import (\n",
    "    SingleJobShopGraphEnv,\n",
    "    ResourceTaskGraphObservation,\n",
    "    get_optimal_actions,\n",
    ")\n",
    "from job_shop_lib.dispatching import OptimalOperationsObserver\n",
    "from job_shop_lib import Schedule\n",
    "from gnn_scheduler.utils import get_data_path\n",
    "from gnn_scheduler.data import JobShopData"
   ]
  },
  {
   "cell_type": "code",
   "execution_count": 3,
   "metadata": {},
   "outputs": [],
   "source": [
    "DATA_PATH = get_data_path()\n",
    "schedules_json = json.load(open(DATA_PATH / \"small_random_instances_0.json\"))"
   ]
  },
  {
   "cell_type": "code",
   "execution_count": 4,
   "metadata": {},
   "outputs": [],
   "source": [
    "# from job_shop_lib.constraint_programming import ORToolsSolver\n",
    "# from job_shop_lib.generation import GeneralInstanceGenerator\n",
    "# import tqdm\n",
    "\n",
    "# instance_generator = GeneralInstanceGenerator(\n",
    "#     duration_range=(1, 10),\n",
    "#     num_jobs=4,\n",
    "#     num_machines=3,\n",
    "#     iteration_limit=1000,\n",
    "#     seed=42,\n",
    "# )\n",
    "# schedules_json = []\n",
    "# for instance in tqdm.tqdm(instance_generator):\n",
    "#     solver = ORToolsSolver()\n",
    "#     schedule = solver.solve(instance)\n",
    "#     schedules_json.append(schedule.to_dict())"
   ]
  },
  {
   "cell_type": "code",
   "execution_count": 5,
   "metadata": {},
   "outputs": [
    {
     "data": {
      "text/plain": [
       "100000"
      ]
     },
     "execution_count": 5,
     "metadata": {},
     "output_type": "execute_result"
    }
   ],
   "source": [
    "len(schedules_json)"
   ]
  },
  {
   "cell_type": "code",
   "execution_count": 6,
   "metadata": {},
   "outputs": [],
   "source": [
    "features_observers_types = [\n",
    "    FeatureObserverType.DURATION,\n",
    "    FeatureObserverType.EARLIEST_START_TIME,\n",
    "    FeatureObserverType.IS_SCHEDULED,\n",
    "    FeatureObserverType.POSITION_IN_JOB,\n",
    "    FeatureObserverType.REMAINING_OPERATIONS,\n",
    "]"
   ]
  },
  {
   "cell_type": "code",
   "execution_count": 7,
   "metadata": {},
   "outputs": [],
   "source": [
    "OPERATION_FEATURES_TO_NORMALIZE = [\n",
    "    0,  # Duration\n",
    "    1,  # EarliestStartTime\n",
    "    4,  # PositionInJob\n",
    "    5,  # Job duration\n",
    "    6,  # Job earliest start time\n",
    "    9,  # Job remaining operations\n",
    "]\n",
    "MACHINE_FEATURES_TO_NORMALIZE = [\n",
    "    0,  # Duration\n",
    "    1,  # EarliestStartTime\n",
    "    4,  # RemainingOperations\n",
    "]\n",
    "\n",
    "features_to_normalize = {\n",
    "    \"operation\": OPERATION_FEATURES_TO_NORMALIZE,\n",
    "    \"machine\": MACHINE_FEATURES_TO_NORMALIZE,\n",
    "}"
   ]
  },
  {
   "cell_type": "code",
   "execution_count": 8,
   "metadata": {},
   "outputs": [],
   "source": [
    "def _normalize_features(\n",
    "    node_features_dict: dict[str, np.ndarray],\n",
    "    indices_to_normalize: dict[str, list[int]] | None = None,\n",
    "):\n",
    "    if indices_to_normalize is None:\n",
    "        indices_to_normalize = {\n",
    "            \"operation\": np.arange(8),\n",
    "            \"machine\": np.arange(4),\n",
    "        }\n",
    "    for key, indices in indices_to_normalize.items():\n",
    "        # Divide by the maximum value checking for division by zero\n",
    "        max_values = np.max(node_features_dict[key], axis=0)\n",
    "        max_values[max_values == 0] = 1\n",
    "        node_features_dict[key][:, indices] /= max_values[indices]\n",
    "\n",
    "    return node_features_dict"
   ]
  },
  {
   "cell_type": "code",
   "execution_count": null,
   "metadata": {},
   "outputs": [],
   "source": [
    "def _map_available_operations_with_ids_to_original_ids(\n",
    "    available_operations_with_ids, original_ids: dict[str, np.ndarray]\n",
    "):\n",
    "    new_ids = []\n",
    "    for operation_id, machine_id, job_id in available_operations_with_ids:\n",
    "        original_operation_id = original_ids[\"operation\"][operation_id]\n",
    "        original_machine_id = original_ids[\"machine\"][machine_id]\n",
    "        new_ids.append((original_operation_id, original_machine_id, job_id))\n",
    "    return new_ids"
   ]
  },
  {
   "cell_type": "code",
   "execution_count": null,
   "metadata": {},
   "outputs": [
    {
     "name": "stderr",
     "output_type": "stream",
     "text": [
      "  0%|          | 350/100000 [00:12<59:01, 28.14it/s]  \n"
     ]
    },
    {
     "ename": "KeyboardInterrupt",
     "evalue": "",
     "output_type": "error",
     "traceback": [
      "\u001b[0;31m---------------------------------------------------------------------------\u001b[0m",
      "\u001b[0;31mKeyboardInterrupt\u001b[0m                         Traceback (most recent call last)",
      "Cell \u001b[0;32mIn[20], line 47\u001b[0m\n\u001b[1;32m     45\u001b[0m     _, machine_id, job_id \u001b[38;5;241m=\u001b[39m action_choice\n\u001b[1;32m     46\u001b[0m     \u001b[38;5;66;03m# machine_id = obs[\"original_ids_dict\"][\"machine\"][machine_id]\u001b[39;00m\n\u001b[0;32m---> 47\u001b[0m     obs, reward, done, _, info \u001b[38;5;241m=\u001b[39m \u001b[43menv\u001b[49m\u001b[38;5;241;43m.\u001b[39;49m\u001b[43mstep\u001b[49m\u001b[43m(\u001b[49m\u001b[43m(\u001b[49m\u001b[43mjob_id\u001b[49m\u001b[43m,\u001b[49m\u001b[43m \u001b[49m\u001b[43mmachine_id\u001b[49m\u001b[43m)\u001b[49m\u001b[43m)\u001b[49m\n\u001b[1;32m     48\u001b[0m makespan \u001b[38;5;241m=\u001b[39m env\u001b[38;5;241m.\u001b[39munwrapped\u001b[38;5;241m.\u001b[39mdispatcher\u001b[38;5;241m.\u001b[39mschedule\u001b[38;5;241m.\u001b[39mmakespan()\n\u001b[1;32m     49\u001b[0m correct_schedule \u001b[38;5;241m=\u001b[39m makespan \u001b[38;5;241m==\u001b[39m schedule\u001b[38;5;241m.\u001b[39mmakespan()\n",
      "File \u001b[0;32m~/VSCodeProjects/gnn_scheduler/.venv/lib/python3.12/site-packages/job_shop_lib/reinforcement_learning/_resource_task_graph_observation.py:95\u001b[0m, in \u001b[0;36mResourceTaskGraphObservation.step\u001b[0;34m(self, action)\u001b[0m\n\u001b[1;32m     72\u001b[0m \u001b[38;5;250m\u001b[39m\u001b[38;5;124;03m\"\"\"Takes a step in the environment.\u001b[39;00m\n\u001b[1;32m     73\u001b[0m \n\u001b[1;32m     74\u001b[0m \u001b[38;5;124;03mArgs:\u001b[39;00m\n\u001b[0;32m   (...)\u001b[0m\n\u001b[1;32m     92\u001b[0m \u001b[38;5;124;03m      machine_id, job_id).\u001b[39;00m\n\u001b[1;32m     93\u001b[0m \u001b[38;5;124;03m\"\"\"\u001b[39;00m\n\u001b[1;32m     94\u001b[0m observation, reward, done, truncated, info \u001b[38;5;241m=\u001b[39m \u001b[38;5;28mself\u001b[39m\u001b[38;5;241m.\u001b[39menv\u001b[38;5;241m.\u001b[39mstep(action)\n\u001b[0;32m---> 95\u001b[0m new_observation \u001b[38;5;241m=\u001b[39m \u001b[38;5;28;43mself\u001b[39;49m\u001b[38;5;241;43m.\u001b[39;49m\u001b[43mobservation\u001b[49m\u001b[43m(\u001b[49m\u001b[43mobservation\u001b[49m\u001b[43m)\u001b[49m\n\u001b[1;32m     96\u001b[0m new_info \u001b[38;5;241m=\u001b[39m \u001b[38;5;28mself\u001b[39m\u001b[38;5;241m.\u001b[39m_info(info)\n\u001b[1;32m     97\u001b[0m \u001b[38;5;28;01mreturn\u001b[39;00m new_observation, reward, done, truncated, new_info\n",
      "File \u001b[0;32m~/VSCodeProjects/gnn_scheduler/.venv/lib/python3.12/site-packages/job_shop_lib/reinforcement_learning/_resource_task_graph_observation.py:212\u001b[0m, in \u001b[0;36mResourceTaskGraphObservation.observation\u001b[0;34m(self, observation)\u001b[0m\n\u001b[1;32m    208\u001b[0m \u001b[38;5;28mself\u001b[39m\u001b[38;5;241m.\u001b[39m_start_from_zero_mapping \u001b[38;5;241m=\u001b[39m \u001b[38;5;28mself\u001b[39m\u001b[38;5;241m.\u001b[39m_get_start_from_zero_mappings(\n\u001b[1;32m    209\u001b[0m     original_ids_dict\n\u001b[1;32m    210\u001b[0m )\n\u001b[1;32m    211\u001b[0m \u001b[38;5;28;01mfor\u001b[39;00m (type_1, to, type_2), edge_index \u001b[38;5;129;01min\u001b[39;00m edge_index_dict\u001b[38;5;241m.\u001b[39mitems():\n\u001b[0;32m--> 212\u001b[0m     edge_index_dict[(type_1, to, type_2)][\u001b[38;5;241m0\u001b[39m] \u001b[38;5;241m=\u001b[39m \u001b[43mmap_values\u001b[49m\u001b[43m(\u001b[49m\n\u001b[1;32m    213\u001b[0m \u001b[43m        \u001b[49m\u001b[43medge_index\u001b[49m\u001b[43m[\u001b[49m\u001b[38;5;241;43m0\u001b[39;49m\u001b[43m]\u001b[49m\u001b[43m,\u001b[49m\u001b[43m \u001b[49m\u001b[38;5;28;43mself\u001b[39;49m\u001b[38;5;241;43m.\u001b[39;49m\u001b[43m_start_from_zero_mapping\u001b[49m\u001b[43m[\u001b[49m\u001b[43mtype_1\u001b[49m\u001b[43m]\u001b[49m\n\u001b[1;32m    214\u001b[0m \u001b[43m    \u001b[49m\u001b[43m)\u001b[49m\n\u001b[1;32m    215\u001b[0m     edge_index_dict[(type_1, to, type_2)][\u001b[38;5;241m1\u001b[39m] \u001b[38;5;241m=\u001b[39m map_values(\n\u001b[1;32m    216\u001b[0m         edge_index[\u001b[38;5;241m1\u001b[39m], \u001b[38;5;28mself\u001b[39m\u001b[38;5;241m.\u001b[39m_start_from_zero_mapping[type_2]\n\u001b[1;32m    217\u001b[0m     )\n\u001b[1;32m    219\u001b[0m \u001b[38;5;28;01mreturn\u001b[39;00m {\n\u001b[1;32m    220\u001b[0m     \u001b[38;5;124m\"\u001b[39m\u001b[38;5;124medge_index_dict\u001b[39m\u001b[38;5;124m\"\u001b[39m: edge_index_dict,\n\u001b[1;32m    221\u001b[0m     \u001b[38;5;124m\"\u001b[39m\u001b[38;5;124mnode_features_dict\u001b[39m\u001b[38;5;124m\"\u001b[39m: node_features_dict,\n\u001b[1;32m    222\u001b[0m     \u001b[38;5;124m\"\u001b[39m\u001b[38;5;124moriginal_ids_dict\u001b[39m\u001b[38;5;124m\"\u001b[39m: original_ids_dict,\n\u001b[1;32m    223\u001b[0m }\n",
      "File \u001b[0;32m~/VSCodeProjects/gnn_scheduler/.venv/lib/python3.12/site-packages/job_shop_lib/reinforcement_learning/_utils.py:161\u001b[0m, in \u001b[0;36mmap_values\u001b[0;34m(array, mapping)\u001b[0m\n\u001b[1;32m    159\u001b[0m \u001b[38;5;28;01mtry\u001b[39;00m:\n\u001b[1;32m    160\u001b[0m     vectorized_mapping \u001b[38;5;241m=\u001b[39m np\u001b[38;5;241m.\u001b[39mvectorize(mapping\u001b[38;5;241m.\u001b[39mget)\n\u001b[0;32m--> 161\u001b[0m     \u001b[38;5;28;01mreturn\u001b[39;00m \u001b[43mvectorized_mapping\u001b[49m\u001b[43m(\u001b[49m\u001b[43marray\u001b[49m\u001b[43m)\u001b[49m\n\u001b[1;32m    162\u001b[0m \u001b[38;5;28;01mexcept\u001b[39;00m \u001b[38;5;167;01mTypeError\u001b[39;00m \u001b[38;5;28;01mas\u001b[39;00m e:\n\u001b[1;32m    163\u001b[0m     \u001b[38;5;28;01mraise\u001b[39;00m ValidationError(\n\u001b[1;32m    164\u001b[0m         \u001b[38;5;124m\"\u001b[39m\u001b[38;5;124mThe array contains values that are not in the mapping.\u001b[39m\u001b[38;5;124m\"\u001b[39m\n\u001b[1;32m    165\u001b[0m     ) \u001b[38;5;28;01mfrom\u001b[39;00m\u001b[38;5;250m \u001b[39m\u001b[38;5;21;01me\u001b[39;00m\n",
      "File \u001b[0;32m~/VSCodeProjects/gnn_scheduler/.venv/lib/python3.12/site-packages/numpy/lib/function_base.py:2372\u001b[0m, in \u001b[0;36mvectorize.__call__\u001b[0;34m(self, *args, **kwargs)\u001b[0m\n\u001b[1;32m   2369\u001b[0m     \u001b[38;5;28mself\u001b[39m\u001b[38;5;241m.\u001b[39m_init_stage_2(\u001b[38;5;241m*\u001b[39margs, \u001b[38;5;241m*\u001b[39m\u001b[38;5;241m*\u001b[39mkwargs)\n\u001b[1;32m   2370\u001b[0m     \u001b[38;5;28;01mreturn\u001b[39;00m \u001b[38;5;28mself\u001b[39m\n\u001b[0;32m-> 2372\u001b[0m \u001b[38;5;28;01mreturn\u001b[39;00m \u001b[38;5;28;43mself\u001b[39;49m\u001b[38;5;241;43m.\u001b[39;49m\u001b[43m_call_as_normal\u001b[49m\u001b[43m(\u001b[49m\u001b[38;5;241;43m*\u001b[39;49m\u001b[43margs\u001b[49m\u001b[43m,\u001b[49m\u001b[43m \u001b[49m\u001b[38;5;241;43m*\u001b[39;49m\u001b[38;5;241;43m*\u001b[39;49m\u001b[43mkwargs\u001b[49m\u001b[43m)\u001b[49m\n",
      "File \u001b[0;32m~/VSCodeProjects/gnn_scheduler/.venv/lib/python3.12/site-packages/numpy/lib/function_base.py:2365\u001b[0m, in \u001b[0;36mvectorize._call_as_normal\u001b[0;34m(self, *args, **kwargs)\u001b[0m\n\u001b[1;32m   2362\u001b[0m     vargs \u001b[38;5;241m=\u001b[39m [args[_i] \u001b[38;5;28;01mfor\u001b[39;00m _i \u001b[38;5;129;01min\u001b[39;00m inds]\n\u001b[1;32m   2363\u001b[0m     vargs\u001b[38;5;241m.\u001b[39mextend([kwargs[_n] \u001b[38;5;28;01mfor\u001b[39;00m _n \u001b[38;5;129;01min\u001b[39;00m names])\n\u001b[0;32m-> 2365\u001b[0m \u001b[38;5;28;01mreturn\u001b[39;00m \u001b[38;5;28;43mself\u001b[39;49m\u001b[38;5;241;43m.\u001b[39;49m\u001b[43m_vectorize_call\u001b[49m\u001b[43m(\u001b[49m\u001b[43mfunc\u001b[49m\u001b[38;5;241;43m=\u001b[39;49m\u001b[43mfunc\u001b[49m\u001b[43m,\u001b[49m\u001b[43m \u001b[49m\u001b[43margs\u001b[49m\u001b[38;5;241;43m=\u001b[39;49m\u001b[43mvargs\u001b[49m\u001b[43m)\u001b[49m\n",
      "File \u001b[0;32m~/VSCodeProjects/gnn_scheduler/.venv/lib/python3.12/site-packages/numpy/lib/function_base.py:2455\u001b[0m, in \u001b[0;36mvectorize._vectorize_call\u001b[0;34m(self, func, args)\u001b[0m\n\u001b[1;32m   2452\u001b[0m \u001b[38;5;66;03m# Convert args to object arrays first\u001b[39;00m\n\u001b[1;32m   2453\u001b[0m inputs \u001b[38;5;241m=\u001b[39m [asanyarray(a, dtype\u001b[38;5;241m=\u001b[39m\u001b[38;5;28mobject\u001b[39m) \u001b[38;5;28;01mfor\u001b[39;00m a \u001b[38;5;129;01min\u001b[39;00m args]\n\u001b[0;32m-> 2455\u001b[0m outputs \u001b[38;5;241m=\u001b[39m \u001b[43mufunc\u001b[49m\u001b[43m(\u001b[49m\u001b[38;5;241;43m*\u001b[39;49m\u001b[43minputs\u001b[49m\u001b[43m)\u001b[49m\n\u001b[1;32m   2457\u001b[0m \u001b[38;5;28;01mif\u001b[39;00m ufunc\u001b[38;5;241m.\u001b[39mnout \u001b[38;5;241m==\u001b[39m \u001b[38;5;241m1\u001b[39m:\n\u001b[1;32m   2458\u001b[0m     res \u001b[38;5;241m=\u001b[39m asanyarray(outputs, dtype\u001b[38;5;241m=\u001b[39motypes[\u001b[38;5;241m0\u001b[39m])\n",
      "\u001b[0;31mKeyboardInterrupt\u001b[0m: "
     ]
    }
   ],
   "source": [
    "dataset = {}\n",
    "for schedule_dict in tqdm.tqdm(schedules_json):\n",
    "    observations = []\n",
    "    action_probabilities_sequence = []\n",
    "    schedule = Schedule.from_dict(**schedule_dict)\n",
    "    graph = build_resource_task_graph(schedule.instance)\n",
    "    env = SingleJobShopGraphEnv(\n",
    "        graph,\n",
    "        feature_observer_configs=features_observers_types,\n",
    "        ready_operations_filter=None,\n",
    "    )\n",
    "    env = ResourceTaskGraphObservation(env)\n",
    "    optimal_ops_observer = OptimalOperationsObserver(\n",
    "        env.unwrapped.dispatcher, schedule\n",
    "    )\n",
    "    correct_schedule = False\n",
    "    attempts = 0\n",
    "    while not correct_schedule:\n",
    "        obs, info = env.reset()\n",
    "        done = False\n",
    "        while not done:\n",
    "\n",
    "            action_probs = get_optimal_actions(\n",
    "                optimal_ops_observer,\n",
    "                _map_available_operations_with_ids_to_original_ids(\n",
    "                    info[\"available_operations_with_ids\"],\n",
    "                    obs[\"original_ids_dict\"],\n",
    "                ),\n",
    "            )\n",
    "            if len(action_probs) > 1:\n",
    "                obs[\"node_features_dict\"] = _normalize_features(\n",
    "                    obs[\"node_features_dict\"]\n",
    "                )\n",
    "                observations.append(obs)\n",
    "                action_probabilities_sequence.append(action_probs)\n",
    "            if max(action_probs.values()) != 1.0:\n",
    "                correct_schedule = False\n",
    "                break\n",
    "            optimal_actions = [\n",
    "                action\n",
    "                for action, value in action_probs.items()\n",
    "                if value == 1.0\n",
    "            ]\n",
    "            action_choice = random.choice(optimal_actions)\n",
    "            _, machine_id, job_id = action_choice\n",
    "            # machine_id = obs[\"original_ids_dict\"][\"machine\"][machine_id]\n",
    "            obs, reward, done, _, info = env.step((job_id, machine_id))\n",
    "        makespan = env.unwrapped.dispatcher.schedule.makespan()\n",
    "        correct_schedule = makespan == schedule.makespan()\n",
    "        if not correct_schedule:\n",
    "            attempts += 1\n",
    "            name = schedule.instance.name\n",
    "            print(f\"Failed to generate correct schedule for {name}\")\n",
    "            print(f\"Attempt {attempts}\")\n",
    "            if attempts >= 100:\n",
    "                raise ValueError(\"Failed to generate correct schedule\")\n",
    "    dataset[schedule.instance.name] = (\n",
    "        observations,\n",
    "        action_probabilities_sequence,\n",
    "    )"
   ]
  },
  {
   "cell_type": "code",
   "execution_count": 21,
   "metadata": {},
   "outputs": [
    {
     "data": {
      "text/plain": [
       "{(2, 1, 0): 1,\n",
       " (7, 0, 1): 1,\n",
       " (13, 2, 2): 0,\n",
       " (16, 1, 3): 0,\n",
       " (22, 2, 4): 1,\n",
       " (25, 0, 5): 0}"
      ]
     },
     "execution_count": 21,
     "metadata": {},
     "output_type": "execute_result"
    }
   ],
   "source": [
    "x = 10\n",
    "list(dataset.values())[0][1][x]"
   ]
  },
  {
   "cell_type": "code",
   "execution_count": 22,
   "metadata": {},
   "outputs": [
    {
     "data": {
      "text/plain": [
       "array([[ 0.53608245,  0.11764706,  0.        ,  0.        ,  0.76829267,\n",
       "         0.2413793 ,  0.        ,  0.6       ],\n",
       "       [ 0.63917524,  0.48739496,  0.        ,  0.25      ,  0.76829267,\n",
       "         0.2413793 ,  0.        ,  0.6       ],\n",
       "       [ 0.77319586,  0.7478992 ,  0.        ,  0.5       ,  0.76829267,\n",
       "         0.2413793 ,  0.        ,  0.6       ],\n",
       "       [ 1.        ,  0.        ,  0.        ,  0.        ,  1.        ,\n",
       "         0.        ,  0.        ,  0.6       ],\n",
       "       [ 0.82474226,  0.40756303,  0.        ,  0.25      ,  1.        ,\n",
       "         0.        ,  0.        ,  0.6       ],\n",
       "       [ 0.7113402 ,  0.74369746,  0.        ,  0.5       ,  1.        ,\n",
       "         0.        ,  0.        ,  0.6       ],\n",
       "       [ 0.96907216, -0.27731094,  1.        ,  0.        ,  0.43495935,\n",
       "         1.        ,  1.        ,  0.4       ],\n",
       "       [ 0.9072165 ,  0.11764706,  1.        ,  0.        ,  0.43495935,\n",
       "         1.        ,  1.        ,  0.4       ],\n",
       "       [ 0.62886596,  0.48739496,  0.        ,  0.        ,  0.43495935,\n",
       "         1.        ,  1.        ,  0.4       ],\n",
       "       [ 0.4742268 ,  0.74369746,  0.        ,  0.25      ,  0.43495935,\n",
       "         1.        ,  1.        ,  0.4       ],\n",
       "       [ 0.8453608 ,  0.11764706,  0.        ,  0.        ,  0.88617885,\n",
       "         0.2413793 ,  0.        ,  0.8       ],\n",
       "       [ 0.73195875,  0.46218488,  0.        ,  0.25      ,  0.88617885,\n",
       "         0.2413793 ,  0.        ,  0.8       ],\n",
       "       [ 0.58762884,  0.7605042 ,  0.        ,  0.5       ,  0.88617885,\n",
       "         0.2413793 ,  0.        ,  0.8       ],\n",
       "       [ 0.08247422,  1.        ,  0.        ,  0.75      ,  0.88617885,\n",
       "         0.2413793 ,  0.        ,  0.8       ],\n",
       "       [ 0.814433  ,  0.        ,  0.        ,  0.        ,  0.8780488 ,\n",
       "         0.        ,  0.        ,  0.6       ],\n",
       "       [ 0.44329897,  0.33193278,  0.        ,  0.25      ,  0.8780488 ,\n",
       "         0.        ,  0.        ,  0.6       ],\n",
       "       [ 0.96907216,  0.5126051 ,  0.        ,  0.5       ,  0.8780488 ,\n",
       "         0.        ,  0.        ,  0.6       ],\n",
       "       [ 0.9381443 ,  0.        ,  0.        ,  0.        ,  0.9308943 ,\n",
       "         0.        ,  0.        ,  1.        ],\n",
       "       [ 0.25773194,  0.42857143,  0.        ,  0.25      ,  0.9308943 ,\n",
       "         0.        ,  0.        ,  1.        ],\n",
       "       [ 0.31958762,  0.53361344,  0.        ,  0.5       ,  0.9308943 ,\n",
       "         0.        ,  0.        ,  1.        ],\n",
       "       [ 0.72164947,  0.66386557,  0.        ,  0.75      ,  0.9308943 ,\n",
       "         0.        ,  0.        ,  1.        ],\n",
       "       [ 0.12371134,  0.9579832 ,  0.        ,  1.        ,  0.9308943 ,\n",
       "         0.        ,  0.        ,  1.        ]], dtype=float32)"
      ]
     },
     "execution_count": 22,
     "metadata": {},
     "output_type": "execute_result"
    }
   ],
   "source": [
    "list(dataset.values())[0][0][x][\"node_features_dict\"][\"operation\"]"
   ]
  },
  {
   "cell_type": "code",
   "execution_count": null,
   "metadata": {},
   "outputs": [
    {
     "data": {
      "text/plain": [
       "(5, 4)"
      ]
     },
     "execution_count": 40,
     "metadata": {},
     "output_type": "execute_result"
    }
   ],
   "source": [
    "list(dataset.values())[0][0][x][\"node_features_dict\"][\"machine\"].shape"
   ]
  },
  {
   "cell_type": "code",
   "execution_count": 11,
   "metadata": {},
   "outputs": [],
   "source": [
    "from job_shop_lib.visualization.gantt import plot_gantt_chart"
   ]
  },
  {
   "cell_type": "code",
   "execution_count": 12,
   "metadata": {},
   "outputs": [
    {
     "data": {
      "text/plain": [
       "(<Figure size 640x480 with 1 Axes>,\n",
       " <Axes: title={'center': 'Gantt Chart for small_random_instance_1 instance'}, xlabel='Time units', ylabel='Machines'>)"
      ]
     },
     "execution_count": 12,
     "metadata": {},
     "output_type": "execute_result"
    },
    {
     "data": {
      "image/png": "[encoded data removed]",
      "text/plain": [
       "<Figure size 640x480 with 1 Axes>"
      ]
     },
     "metadata": {},
     "output_type": "display_data"
    }
   ],
   "source": [
    "plot_gantt_chart(schedule)"
   ]
  },
  {
   "cell_type": "code",
   "execution_count": 13,
   "metadata": {},
   "outputs": [
    {
     "data": {
      "text/plain": [
       "(<Figure size 640x480 with 1 Axes>,\n",
       " <Axes: title={'center': 'Gantt Chart for small_random_instance_1 instance'}, xlabel='Time units', ylabel='Machines'>)"
      ]
     },
     "execution_count": 13,
     "metadata": {},
     "output_type": "execute_result"
    },
    {
     "data": {
      "image/png": "[encoded data removed]",
      "text/plain": [
       "<Figure size 640x480 with 1 Axes>"
      ]
     },
     "metadata": {},
     "output_type": "display_data"
    }
   ],
   "source": [
    "plot_gantt_chart(env.unwrapped.dispatcher.schedule)"
   ]
  },
  {
   "cell_type": "code",
   "execution_count": 14,
   "metadata": {},
   "outputs": [
    {
     "data": {
      "text/plain": [
       "{(0, 4, 0): 0,\n",
       " (6, 0, 1): 0,\n",
       " (9, 1, 2): 0,\n",
       " (14, 1, 3): 0,\n",
       " (18, 0, 4): 0,\n",
       " (22, 0, 5): 0}"
      ]
     },
     "execution_count": 14,
     "metadata": {},
     "output_type": "execute_result"
    }
   ],
   "source": [
    "action_probs"
   ]
  },
  {
   "cell_type": "code",
   "execution_count": null,
   "metadata": {},
   "outputs": [
    {
     "data": {
      "text/plain": [
       "<function job_shop_lib.dispatching._ready_operation_filters.filter_dominated_operations(dispatcher: job_shop_lib.dispatching._dispatcher.Dispatcher, operations: List[job_shop_lib._operation.Operation]) -> List[job_shop_lib._operation.Operation]>"
      ]
     },
     "execution_count": 15,
     "metadata": {},
     "output_type": "execute_result"
    }
   ],
   "source": [
    "env.unwrapped.dispatcher.ready_operations_filter"
   ]
  },
  {
   "cell_type": "code",
   "execution_count": null,
   "metadata": {},
   "outputs": [
    {
     "name": "stdout",
     "output_type": "stream",
     "text": [
      "CompositeFeatureObserver:\n",
      "------------------------\n",
      "operations:\n",
      "    Duration  EarliestStartTime  IsScheduled  PositionInJob\n",
      "0        9.0              -10.0          1.0            0.0\n",
      "1        3.0                0.0          1.0            0.0\n",
      "2        2.0                6.0          0.0            0.0\n",
      "3        6.0              -19.0          1.0            0.0\n",
      "4       -2.0              -13.0          1.0            0.0\n",
      "5        2.0                2.0          0.0            0.0\n",
      "6       10.0              -13.0          1.0            0.0\n",
      "7        0.0               -1.0          1.0            0.0\n",
      "8        6.0                0.0          0.0            0.0\n",
      "9        0.0              -19.0          1.0            0.0\n",
      "10       3.0              -13.0          1.0            0.0\n",
      "11      -2.0              -10.0          1.0            0.0\n",
      "machines:\n",
      "   Duration  EarliestStartTime  IsScheduled  RemainingOperations\n",
      "0       8.0                0.0          0.0                 -1.0\n",
      "1       2.0                2.0          1.0                 -1.0\n",
      "2       0.0              -19.0          0.0                 -4.0\n",
      "jobs:\n",
      "   Duration  EarliestStartTime  IsScheduled  RemainingOperations\n",
      "0       2.0                6.0          1.0                  0.0\n",
      "1       2.0                2.0          0.0                 -1.0\n",
      "2       6.0                0.0          0.0                 -2.0\n",
      "3       0.0                0.0          0.0                 -3.0\n"
     ]
    }
   ],
   "source": [
    "print(env.unwrapped.dispatcher.subscribers[-6])"
   ]
  },
  {
   "cell_type": "code",
   "execution_count": null,
   "metadata": {},
   "outputs": [
    {
     "data": {
      "text/plain": [
       "{'name': 'classic_generated_instance_498',\n",
       " 'duration_matrix': [[9, 3, 2], [6, 1, 2], [10, 1, 6], [6, 3, 7]],\n",
       " 'machines_matrix': [[2, 1, 0], [2, 0, 1], [1, 2, 0], [1, 2, 0]],\n",
       " 'metadata': {}}"
      ]
     },
     "execution_count": 30,
     "metadata": {},
     "output_type": "execute_result"
    }
   ],
   "source": [
    "env.unwrapped.job_shop_graph.instance.to_dict()"
   ]
  },
  {
   "cell_type": "code",
   "execution_count": null,
   "metadata": {},
   "outputs": [
    {
     "name": "stdout",
     "output_type": "stream",
     "text": [
      "19\n"
     ]
    }
   ],
   "source": [
    "print(env.unwrapped.dispatcher.current_time())"
   ]
  },
  {
   "cell_type": "code",
   "execution_count": null,
   "metadata": {},
   "outputs": [
    {
     "data": {
      "text/plain": [
       "{(2, 0, 0): 0, (5, 1, 1): 1, (8, 0, 2): 1}"
      ]
     },
     "execution_count": 29,
     "metadata": {},
     "output_type": "execute_result"
    }
   ],
   "source": [
    "action_probs"
   ]
  },
  {
   "cell_type": "code",
   "execution_count": null,
   "metadata": {},
   "outputs": [],
   "source": [
    "observations, action_probabilities_sequence = dataset[schedule.instance.name]\n",
    "assert len(observations) == len(action_probabilities_sequence)"
   ]
  },
  {
   "cell_type": "code",
   "execution_count": null,
   "metadata": {},
   "outputs": [],
   "source": [
    "hetero_dataset = []\n",
    "for obs, action_probs in zip(observations, action_probabilities_sequence):\n",
    "    job_shop_data = JobShopData()\n",
    "    for key, value in obs.items():\n",
    "        for subkey, subvalue in value.items():\n",
    "            if key == \"node_features_dict\":\n",
    "                job_shop_data[subkey].x = torch.from_numpy(subvalue)\n",
    "            elif key == \"edge_index_dict\":\n",
    "                job_shop_data[subkey].edge_index = torch.from_numpy(subvalue)\n",
    "    job_shop_data[\"y\"] = torch.tensor(list(action_probs.values()))\n",
    "    job_shop_data[\"valid_pairs\"] = torch.tensor(list(action_probs.keys()))\n",
    "    hetero_dataset.append(job_shop_data)"
   ]
  },
  {
   "cell_type": "code",
   "execution_count": null,
   "metadata": {},
   "outputs": [
    {
     "data": {
      "text/plain": [
       "{('operation',\n",
       "  'to',\n",
       "  'operation'): tensor([[ 0,  0,  0,  0,  1,  1,  1,  1,  2,  2,  2,  2,  3,  3,  3,  3,  4,  4,\n",
       "           4,  4,  5,  5,  5,  5,  6,  6,  6,  6,  7,  7,  7,  7,  8,  8,  8,  8,\n",
       "           9,  9,  9,  9, 10, 10, 10, 10, 11, 11, 11, 11, 12, 12, 12, 12, 13, 13,\n",
       "          13, 13, 14, 14, 14, 14, 15, 15, 15, 15, 16, 16, 16, 16, 17, 17, 17, 17,\n",
       "          18, 18, 18, 18, 19, 19, 19, 19, 20, 20, 20, 20, 21, 21, 21, 21, 22, 22,\n",
       "          22, 22, 23, 23, 23, 23, 24, 24, 24, 24, 25, 25, 25, 25, 26, 26, 26, 26,\n",
       "          27, 27, 27, 27, 28, 28, 28, 28, 29, 29, 29, 29],\n",
       "         [ 1,  2,  3,  4,  0,  2,  3,  4,  0,  1,  3,  4,  0,  1,  2,  4,  0,  1,\n",
       "           2,  3,  6,  7,  8,  9,  5,  7,  8,  9,  5,  6,  8,  9,  5,  6,  7,  9,\n",
       "           5,  6,  7,  8, 11, 12, 13, 14, 10, 12, 13, 14, 10, 11, 13, 14, 10, 11,\n",
       "          12, 14, 10, 11, 12, 13, 16, 17, 18, 19, 15, 17, 18, 19, 15, 16, 18, 19,\n",
       "          15, 16, 17, 19, 15, 16, 17, 18, 21, 22, 23, 24, 20, 22, 23, 24, 20, 21,\n",
       "          23, 24, 20, 21, 22, 24, 20, 21, 22, 23, 26, 27, 28, 29, 25, 27, 28, 29,\n",
       "          25, 26, 28, 29, 25, 26, 27, 29, 25, 26, 27, 28]]),\n",
       " ('operation',\n",
       "  'to',\n",
       "  'machine'): tensor([[ 0,  1,  2,  3,  4,  5,  6,  7,  8,  9, 10, 11, 12, 13, 14, 15, 16, 17,\n",
       "          18, 19, 20, 21, 22, 23, 24, 25, 26, 27, 28, 29],\n",
       "         [ 2,  4,  1,  3,  0,  1,  2,  0,  4,  3,  0,  1,  3,  2,  4,  4,  1,  2,\n",
       "           3,  0,  3,  0,  2,  1,  4,  0,  2,  1,  4,  3]]),\n",
       " ('machine',\n",
       "  'to',\n",
       "  'operation'): tensor([[ 0,  0,  0,  0,  0,  0,  1,  1,  1,  1,  1,  1,  2,  2,  2,  2,  2,  2,\n",
       "           3,  3,  3,  3,  3,  3,  4,  4,  4,  4,  4,  4],\n",
       "         [ 4,  7, 10, 19, 21, 25,  2,  5, 11, 16, 23, 27,  0,  6, 13, 17, 22, 26,\n",
       "           3,  9, 12, 18, 20, 29,  1,  8, 14, 15, 24, 28]]),\n",
       " ('machine',\n",
       "  'to',\n",
       "  'machine'): tensor([[0, 0, 0, 0, 1, 1, 1, 1, 2, 2, 2, 2, 3, 3, 3, 3, 4, 4, 4, 4],\n",
       "         [1, 2, 3, 4, 0, 2, 3, 4, 0, 1, 3, 4, 0, 1, 2, 4, 0, 1, 2, 3]])}"
      ]
     },
     "execution_count": 11,
     "metadata": {},
     "output_type": "execute_result"
    }
   ],
   "source": [
    "hetero_dataset[0].edge_index_dict"
   ]
  },
  {
   "cell_type": "code",
   "execution_count": null,
   "metadata": {},
   "outputs": [],
   "source": [
    "from gnn_scheduler.model import ResidualSchedulingGNN, HeteroMetadata\n",
    "\n",
    "metadata = HeteroMetadata(node_types=[\"operation\", \"machine\"])\n",
    "\n",
    "\n",
    "model = ResidualSchedulingGNN(\n",
    "    metadata=metadata, in_channels_dict={\"operation\": 8, \"machine\": 4}\n",
    ")\n",
    "\n",
    "a = model(\n",
    "    hetero_dataset[0].x_dict,\n",
    "    hetero_dataset[0].edge_index_dict,\n",
    "    hetero_dataset[0].valid_pairs,\n",
    ")"
   ]
  },
  {
   "cell_type": "code",
   "execution_count": null,
   "metadata": {},
   "outputs": [
    {
     "data": {
      "text/plain": [
       "HeteroData(\n",
       "  y=[6],\n",
       "  valid_pairs=[6, 3],\n",
       "  operation={ x=[30, 8] },\n",
       "  machine={ x=[5, 4] },\n",
       "  (operation, to, operation)={ edge_index=[2, 120] },\n",
       "  (operation, to, machine)={ edge_index=[2, 30] },\n",
       "  (machine, to, operation)={ edge_index=[2, 30] },\n",
       "  (machine, to, machine)={ edge_index=[2, 20] }\n",
       ")"
      ]
     },
     "execution_count": 14,
     "metadata": {},
     "output_type": "execute_result"
    }
   ],
   "source": [
    "hetero_dataset[0]"
   ]
  },
  {
   "cell_type": "code",
   "execution_count": null,
   "metadata": {},
   "outputs": [
    {
     "data": {
      "text/plain": [
       "tensor([[ 0.0851],\n",
       "        [-0.1582],\n",
       "        [-0.0196],\n",
       "        [-0.3940],\n",
       "        [ 0.0272],\n",
       "        [-0.2747],\n",
       "        [ 0.0851],\n",
       "        [-0.1582],\n",
       "        [-0.0196],\n",
       "        [-0.3940],\n",
       "        [ 0.0272],\n",
       "        [-0.2747]], grad_fn=<CatBackward0>)"
      ]
     },
     "execution_count": 24,
     "metadata": {},
     "output_type": "execute_result"
    }
   ],
   "source": [
    "torch.cat([a, a], dim=0)"
   ]
  },
  {
   "cell_type": "code",
   "execution_count": null,
   "metadata": {},
   "outputs": [],
   "source": []
  }
 ],
 "metadata": {
  "kernelspec": {
   "display_name": ".venv",
   "language": "python",
   "name": "python3"
  },
  "language_info": {
   "codemirror_mode": {
    "name": "ipython",
    "version": 3
   },
   "file_extension": ".py",
   "mimetype": "text/x-python",
   "name": "python",
   "nbconvert_exporter": "python",
   "pygments_lexer": "ipython3",
   "version": "3.12.3"
  }
 },
 "nbformat": 4,
 "nbformat_minor": 2
}
